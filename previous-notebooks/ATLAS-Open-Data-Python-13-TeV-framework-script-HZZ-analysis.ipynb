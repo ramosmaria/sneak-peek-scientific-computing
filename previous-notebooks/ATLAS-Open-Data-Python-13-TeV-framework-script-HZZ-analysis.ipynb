{
 "cells": [
  {
   "cell_type": "markdown",
   "metadata": {},
   "source": [
    "<CENTER><img src=\"http://opendata.atlas.cern/DataAndTools/pictures/ATLASOD.gif\" style=\"width:50%\"></CENTER>"
   ]
  },
  {
   "cell_type": "markdown",
   "metadata": {},
   "source": [
    "<CENTER><h1>Get running the analysis of HZZ channel using the 13 TeV dataset in Python</h1></CENTER>"
   ]
  },
  {
   "cell_type": "markdown",
   "metadata": {},
   "source": [
    "**Introduction**\n",
    "Let's take a current ATLAS Open Data sample and create histograms:\n",
    "\n",
    "Import some Python packages"
   ]
  },
  {
   "cell_type": "code",
   "execution_count": 1,
   "metadata": {},
   "outputs": [],
   "source": [
    "import os\n",
    "import datetime"
   ]
  },
  {
   "cell_type": "code",
   "execution_count": 2,
   "metadata": {},
   "outputs": [
    {
     "name": "stdout",
     "output_type": "stream",
     "text": [
      "Di Feb 25 23:48:05 CET 2020\n",
      "\n"
     ]
    }
   ],
   "source": [
    "starttime = datetime.datetime.now()\n",
    "\n",
    "myCmd = os.popen('date').read()\n",
    "print(myCmd)"
   ]
  },
  {
   "cell_type": "markdown",
   "metadata": {},
   "source": [
    "## Get the code the 13TeV analysis\n",
    "Create a folder where the git clone will be stored"
   ]
  },
  {
   "cell_type": "code",
   "execution_count": 3,
   "metadata": {},
   "outputs": [],
   "source": [
    "folder_demo = 'atlas-demo-HZZ'"
   ]
  },
  {
   "cell_type": "code",
   "execution_count": 4,
   "metadata": {},
   "outputs": [
    {
     "data": {
      "text/plain": [
       "0"
      ]
     },
     "execution_count": 4,
     "metadata": {},
     "output_type": "execute_result"
    }
   ],
   "source": [
    "command1 = 'mkdir '+folder_demo\n",
    "os.system(command1)"
   ]
  },
  {
   "cell_type": "markdown",
   "metadata": {},
   "source": [
    "Show the contents in the current folder, and checck your new folder is there"
   ]
  },
  {
   "cell_type": "code",
   "execution_count": 5,
   "metadata": {},
   "outputs": [
    {
     "name": "stdout",
     "output_type": "stream",
     "text": [
      "total 72K\n",
      "-rw-r--r-- 1 student student  41K Feb 24 17:03 bash-demo.ipynb\n",
      "-rw-r--r-- 1 student student 9.0K Feb 25 23:47 ATLAS-Open-Data-13-TeV-framework-script-HZZ-analysis.ipynb\n",
      "-rw-r--r-- 1 student student 9.0K Feb 25 23:47 ATLAS-Open-Data-13-TeV-framework-script-Hyy-analysis.ipynb\n",
      "drwxr-xr-x 2 student student 4.0K Feb 25 23:48 atlas-demo-HZZ\n",
      "\n"
     ]
    }
   ],
   "source": [
    "myCmd = os.popen('ls -lhrt').read()\n",
    "print(myCmd)"
   ]
  },
  {
   "cell_type": "markdown",
   "metadata": {},
   "source": [
    "Print the current path/location"
   ]
  },
  {
   "cell_type": "code",
   "execution_count": 6,
   "metadata": {},
   "outputs": [
    {
     "name": "stdout",
     "output_type": "stream",
     "text": [
      "/home/student/GIT-REPOS/notebooks-frameworks-opendata/13-TeV-examples\n",
      "\n"
     ]
    }
   ],
   "source": [
    "myCmd = os.popen('pwd').read()\n",
    "print(myCmd)"
   ]
  },
  {
   "cell_type": "markdown",
   "metadata": {},
   "source": [
    "Get into the folder which we just created"
   ]
  },
  {
   "cell_type": "code",
   "execution_count": 7,
   "metadata": {},
   "outputs": [],
   "source": [
    "os.chdir(folder_demo+\"/\")"
   ]
  },
  {
   "cell_type": "markdown",
   "metadata": {},
   "source": [
    "Print the current path and check that you are really there"
   ]
  },
  {
   "cell_type": "code",
   "execution_count": 8,
   "metadata": {},
   "outputs": [
    {
     "name": "stdout",
     "output_type": "stream",
     "text": [
      "/home/student/GIT-REPOS/notebooks-frameworks-opendata/13-TeV-examples/atlas-demo-HZZ\n",
      "\n"
     ]
    }
   ],
   "source": [
    "myCmd = os.popen('pwd').read()\n",
    "print(myCmd)"
   ]
  },
  {
   "cell_type": "markdown",
   "metadata": {},
   "source": [
    "Clone the analysis code **(do this only once!)**"
   ]
  },
  {
   "cell_type": "code",
   "execution_count": 9,
   "metadata": {},
   "outputs": [
    {
     "name": "stdout",
     "output_type": "stream",
     "text": [
      "\n"
     ]
    }
   ],
   "source": [
    "myCmd = os.popen('git clone https://github.com/atlas-outreach-data-tools/atlas-outreach-cpp-framework-13tev.git').read()\n",
    "print(myCmd)"
   ]
  },
  {
   "cell_type": "markdown",
   "metadata": {},
   "source": [
    "Get into the folder which contains the analysis code"
   ]
  },
  {
   "cell_type": "code",
   "execution_count": 10,
   "metadata": {},
   "outputs": [],
   "source": [
    "os.chdir(\"atlas-outreach-cpp-framework-13tev/\")"
   ]
  },
  {
   "cell_type": "markdown",
   "metadata": {},
   "source": [
    "Print the current path and check that you are really there"
   ]
  },
  {
   "cell_type": "code",
   "execution_count": 11,
   "metadata": {},
   "outputs": [
    {
     "name": "stdout",
     "output_type": "stream",
     "text": [
      "/home/student/GIT-REPOS/notebooks-frameworks-opendata/13-TeV-examples/atlas-demo-HZZ/atlas-outreach-cpp-framework-13tev\n",
      "\n"
     ]
    }
   ],
   "source": [
    "myCmd = os.popen('pwd').read()\n",
    "print(myCmd)"
   ]
  },
  {
   "cell_type": "markdown",
   "metadata": {},
   "source": [
    "let's see the time"
   ]
  },
  {
   "cell_type": "code",
   "execution_count": 12,
   "metadata": {},
   "outputs": [
    {
     "name": "stdout",
     "output_type": "stream",
     "text": [
      "Di Feb 25 23:48:06 CET 2020\n",
      "\n"
     ]
    }
   ],
   "source": [
    "myCmd = os.popen('date').read()\n",
    "print(myCmd)"
   ]
  },
  {
   "cell_type": "code",
   "execution_count": 13,
   "metadata": {},
   "outputs": [
    {
     "name": "stdout",
     "output_type": "stream",
     "text": [
      "total 28K\n",
      "drwxr-xr-x 14 student student 4.0K Feb 25 23:48 Analysis\n",
      "-rwxr-xr-x  1 student student  370 Feb 25 23:48 welcome_web.sh\n",
      "-rwxr-xr-x  1 student student 1.7K Feb 25 23:48 welcome.sh\n",
      "-rw-r--r--  1 student student  11K Feb 25 23:48 README.md\n",
      "drwxr-xr-x  4 student student 4.0K Feb 25 23:48 Plotting\n",
      "\n"
     ]
    }
   ],
   "source": [
    "myCmd = os.popen('ls -lhrt').read()\n",
    "print(myCmd)"
   ]
  },
  {
   "cell_type": "markdown",
   "metadata": {},
   "source": [
    "let's create the output folders **(do this only the first time with option 1)**"
   ]
  },
  {
   "cell_type": "code",
   "execution_count": 14,
   "metadata": {},
   "outputs": [
    {
     "data": {
      "text/plain": [
       "0"
      ]
     },
     "execution_count": 14,
     "metadata": {},
     "output_type": "execute_result"
    }
   ],
   "source": [
    "command3 = \"echo \\\"1\\\" | ./welcome.sh\"\n",
    "os.system(command3)"
   ]
  },
  {
   "cell_type": "code",
   "execution_count": 15,
   "metadata": {},
   "outputs": [
    {
     "name": "stdout",
     "output_type": "stream",
     "text": [
      "total 56K\n",
      "-rwxr-xr-x 1 student student  615 Feb 25 23:48 run.sh\n",
      "-rw-r--r-- 1 student student 8.7K Feb 25 23:48 main_HZZAnalysis.C\n",
      "-rw-r--r-- 1 student student 5.3K Feb 25 23:48 HZZAnalysisHistograms.h\n",
      "-rw-r--r-- 1 student student  10K Feb 25 23:48 HZZAnalysis.h\n",
      "-rw-r--r-- 1 student student  13K Feb 25 23:48 HZZAnalysis.C\n",
      "drwxr-xr-x 2 student student 4.0K Feb 25 23:48 Output_HZZAnalysis\n",
      "\n"
     ]
    }
   ],
   "source": [
    "myCmd = os.popen('ls -lhrt Analysis/HZZAnalysis').read()\n",
    "print(myCmd)"
   ]
  },
  {
   "cell_type": "markdown",
   "metadata": {},
   "source": [
    "### Let's run an Analysis now\n",
    "### Select one analysis\n",
    "#### The options are:"
   ]
  },
  {
   "cell_type": "code",
   "execution_count": 16,
   "metadata": {},
   "outputs": [],
   "source": [
    "#analysis=\"HWWAnalysis\"\n",
    "#analysis=\"HyyAnalysis\"\n",
    "analysis=\"HZZAnalysis\"\n",
    "#analysis=\"SingleTopAnalysis\"\n",
    "#analysis=\"SUSYAnalysis\"\n",
    "#analysis=\"TTbarAnalysis\"\n",
    "#analysis=\"WBosonAnalysis\"\n",
    "#analysis=\"WZDiBosonAnalysis\"\n",
    "#analysis=\"ZBosonAnalysis\"\n",
    "#analysis=\"ZPrimeBoostedAnalysis\"\n",
    "#analysis=\"ZTauTauAnalysis\"\n",
    "#analysis=\"ZZDiBosonAnalysis\""
   ]
  },
  {
   "cell_type": "code",
   "execution_count": 17,
   "metadata": {},
   "outputs": [],
   "source": [
    "os.chdir(\"Analysis/\"+analysis)"
   ]
  },
  {
   "cell_type": "code",
   "execution_count": 18,
   "metadata": {},
   "outputs": [
    {
     "name": "stdout",
     "output_type": "stream",
     "text": [
      "/home/student/GIT-REPOS/notebooks-frameworks-opendata/13-TeV-examples/atlas-demo-HZZ/atlas-outreach-cpp-framework-13tev/Analysis/HZZAnalysis\n",
      "\n"
     ]
    }
   ],
   "source": [
    "myCmd = os.popen('pwd').read()\n",
    "print(myCmd)"
   ]
  },
  {
   "cell_type": "code",
   "execution_count": 19,
   "metadata": {},
   "outputs": [
    {
     "name": "stdout",
     "output_type": "stream",
     "text": [
      "total 56K\n",
      "-rwxr-xr-x 1 student student  615 Feb 25 23:48 run.sh\n",
      "-rw-r--r-- 1 student student 8.7K Feb 25 23:48 main_HZZAnalysis.C\n",
      "-rw-r--r-- 1 student student 5.3K Feb 25 23:48 HZZAnalysisHistograms.h\n",
      "-rw-r--r-- 1 student student  10K Feb 25 23:48 HZZAnalysis.h\n",
      "-rw-r--r-- 1 student student  13K Feb 25 23:48 HZZAnalysis.C\n",
      "drwxr-xr-x 2 student student 4.0K Feb 25 23:48 Output_HZZAnalysis\n",
      "\n"
     ]
    }
   ],
   "source": [
    "myCmd = os.popen('ls -lhrt').read()\n",
    "print(myCmd)"
   ]
  },
  {
   "cell_type": "markdown",
   "metadata": {},
   "source": [
    "### Run the C++ code now\n",
    "Please, note that we are writing the output in a log file.\n",
    "(This file can be inspected in real time in a terminal)"
   ]
  },
  {
   "cell_type": "code",
   "execution_count": 20,
   "metadata": {},
   "outputs": [
    {
     "data": {
      "text/plain": [
       "0"
      ]
     },
     "execution_count": 20,
     "metadata": {},
     "output_type": "execute_result"
    }
   ],
   "source": [
    "command4 = \"echo \\\"0\\n0\\\" | ./run.sh >log\"\n",
    "os.system(command4)"
   ]
  },
  {
   "cell_type": "markdown",
   "metadata": {},
   "source": [
    "#### Now the code is done (I hope you see a 0 as output :)"
   ]
  },
  {
   "cell_type": "code",
   "execution_count": 21,
   "metadata": {},
   "outputs": [],
   "source": [
    "os.chdir(\"../../Plotting/\")"
   ]
  },
  {
   "cell_type": "code",
   "execution_count": 22,
   "metadata": {},
   "outputs": [
    {
     "name": "stdout",
     "output_type": "stream",
     "text": [
      "/home/student/GIT-REPOS/notebooks-frameworks-opendata/13-TeV-examples/atlas-demo-HZZ/atlas-outreach-cpp-framework-13tev/Plotting\n",
      "\n"
     ]
    }
   ],
   "source": [
    "myCmd = os.popen('pwd').read()\n",
    "print(myCmd)"
   ]
  },
  {
   "cell_type": "markdown",
   "metadata": {},
   "source": [
    "### Let's run the Plotting code\n",
    "### Select the right analysis\n",
    "#### The options are:\n",
    "0 = WBosonAnalysis\n",
    "\n",
    "1 = ZBosonAnalysis\n",
    "\n",
    "2 = TTbarAnalysis\n",
    "\n",
    "3 = SingleTopAnalysis\n",
    "\n",
    "4 = WZDiBosonAnalysis\n",
    "\n",
    "5 = ZZDiBosonAnalysis\n",
    "\n",
    "6 = HWWAnalysis\n",
    "\n",
    "7 = HZZAnalysis\n",
    "\n",
    "8 = ZTauTauAnalysis\n",
    "\n",
    "9 = HyyAnalysis\n",
    "\n",
    "10 = SUSYAnalysis\n",
    "\n",
    "11 = ZPrimeBoostedAnalysis"
   ]
  },
  {
   "cell_type": "code",
   "execution_count": 23,
   "metadata": {},
   "outputs": [
    {
     "data": {
      "text/plain": [
       "0"
      ]
     },
     "execution_count": 23,
     "metadata": {},
     "output_type": "execute_result"
    }
   ],
   "source": [
    "command5 = \"echo \\\"7\\n0\\\" | ./plotme.sh\"\n",
    "os.system(command5)"
   ]
  },
  {
   "cell_type": "code",
   "execution_count": 24,
   "metadata": {},
   "outputs": [
    {
     "name": "stdout",
     "output_type": "stream",
     "text": [
      "-rw-r--r-- 1 student student 23K Feb 25 23:59 histograms/hist_fourlepsys_pt.png\n",
      "-rw-r--r-- 1 student student 21K Feb 25 23:59 histograms/hist_fourlepsys_y.png\n",
      "-rw-r--r-- 1 student student 22K Feb 25 23:59 histograms/hist_fourleptE.png\n",
      "-rw-r--r-- 1 student student 19K Feb 25 23:59 histograms/hist_fourleptID.png\n",
      "-rw-r--r-- 1 student student 18K Feb 25 23:59 histograms/hist_fourleptch.png\n",
      "-rw-r--r-- 1 student student 21K Feb 25 23:59 histograms/hist_fourlepteta.png\n",
      "-rw-r--r-- 1 student student 19K Feb 25 23:59 histograms/hist_fourleptphi.png\n",
      "-rw-r--r-- 1 student student 22K Feb 25 23:59 histograms/hist_fourleptpt.png\n",
      "-rw-r--r-- 1 student student 24K Feb 25 23:59 histograms/hist_mLL1.png\n",
      "-rw-r--r-- 1 student student 26K Feb 25 23:59 histograms/hist_mLL2.png\n",
      "-rw-r--r-- 1 student student 19K Feb 25 23:59 histograms/hist_n_jets.png\n",
      "-rw-r--r-- 1 student student 25K Feb 25 23:59 histograms/mass_ext_four_lep.png\n",
      "-rw-r--r-- 1 student student 23K Feb 25 23:59 histograms/mass_four_lep.png\n",
      "\n"
     ]
    }
   ],
   "source": [
    "myCmd = os.popen('ls -lhrt histograms/*png').read()\n",
    "print(myCmd)"
   ]
  },
  {
   "cell_type": "markdown",
   "metadata": {},
   "source": [
    "<CENTER>\n",
    "    <h2> The four-leptons mass </h2>\n",
    "    <img src=\"atlas-demo-HZZ/atlas-outreach-cpp-framework-13tev/Plotting/histograms/mass_four_lep.png\"  alt=\"4lep mass\" width=\"560\" height=\"400\">\n",
    "</CENTER>"
   ]
  },
  {
   "cell_type": "code",
   "execution_count": 25,
   "metadata": {},
   "outputs": [
    {
     "name": "stdout",
     "output_type": "stream",
     "text": [
      "Di Feb 25 23:59:53 CET 2020\n",
      "\n",
      "Analysis finished in  11 min  48 s\n"
     ]
    }
   ],
   "source": [
    "myCmd = os.popen('date').read()\n",
    "print(myCmd)\n",
    "endtime = datetime.datetime.now()\n",
    "print(\"Analysis finished in % 2d min % 2d s\" %(((endtime - starttime).seconds)/60,((endtime - starttime).seconds)%60))"
   ]
  },
  {
   "cell_type": "markdown",
   "metadata": {},
   "source": [
    "### Done!"
   ]
  }
 ],
 "metadata": {
  "kernelspec": {
   "display_name": "Python 3",
   "language": "python",
   "name": "python3"
  },
  "language_info": {
   "codemirror_mode": {
    "name": "ipython",
    "version": 3
   },
   "file_extension": ".py",
   "mimetype": "text/x-python",
   "name": "python",
   "nbconvert_exporter": "python",
   "pygments_lexer": "ipython3",
   "version": "3.6.9"
  }
 },
 "nbformat": 4,
 "nbformat_minor": 1
}
